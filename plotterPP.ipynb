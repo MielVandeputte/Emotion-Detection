{
 "cells": [
  {
   "cell_type": "markdown",
   "metadata": {},
   "source": [
    "# Data Visualisation"
   ]
  },
  {
   "cell_type": "code",
   "execution_count": 22,
   "metadata": {},
   "outputs": [],
   "source": [
    "import pandas as pd\n",
    "import numpy as np\n",
    "import seaborn as sns\n",
    "import matplotlib.pyplot as plt\n",
    "import copy\n",
    "\n",
    "from sklearn.model_selection import train_test_split, learning_curve, cross_val_score, KFold\n",
    "from sklearn.metrics import accuracy_score, precision_score, recall_score, f1_score, roc_curve, roc_auc_score\n",
    "from sklearn.preprocessing import PolynomialFeatures\n",
    "from sklearn.linear_model import LinearRegression, LogisticRegression, Ridge, Lasso\n",
    "from sklearn.utils import resample\n",
    "from sklearn.pipeline import make_pipeline\n",
    "from sklearn.model_selection import GridSearchCV\n",
    "from sklearn.model_selection import RandomizedSearchCV\n",
    "\n",
    "import scipy as sc\n",
    "from scipy.stats import uniform, randint\n",
    "\n",
    "import tensorflow as tf\n",
    "from tensorflow import keras\n",
    "from keras.layers import Conv1D, MaxPooling1D, Flatten, Dense\n",
    "from keras.utils import to_categorical\n",
    "from scikeras.wrappers import KerasClassifier\n",
    "from keras.utils import pad_sequences\n",
    "from keras.models import Sequential\n",
    "\n",
    "from imblearn.over_sampling import RandomOverSampler\n",
    "from imblearn.under_sampling import RandomUnderSampler\n"
   ]
  },
  {
   "cell_type": "markdown",
   "metadata": {},
   "source": [
    "## Data import"
   ]
  },
  {
   "cell_type": "markdown",
   "metadata": {},
   "source": [
    "### Import and split pp file"
   ]
  },
  {
   "cell_type": "code",
   "execution_count": 23,
   "metadata": {},
   "outputs": [],
   "source": [
    "def import_pp_v1(filename):\n",
    "    column_names = ['timestamp','user_id','record_id','value','alt_value']\n",
    "    \n",
    "    pp_file = pd.read_csv(filename, header=None, usecols=[0,1,2,3,4], names=column_names)\n",
    "    \n",
    "    pp_segments = {}\n",
    "    for record_id, group in pp_file.groupby('record_id'):\n",
    "        pp_segments[record_id] = group.reset_index(drop=True)\n",
    "        \n",
    "    print(str(len(pp_segments)) + ' segments found in PP file.')\n",
    "        \n",
    "    return pp_segments"
   ]
  },
  {
   "cell_type": "code",
   "execution_count": 24,
   "metadata": {},
   "outputs": [],
   "source": [
    "def import_pp_v2(filename):\n",
    "    column_names = ['timestamp','user_id','value','alt_value']\n",
    "    pp_file = pd.read_csv(filename, header=None, usecols=[0,1,2,3], names=column_names)\n",
    "\n",
    "    time_threshold = 1000 * 60 * 2\n",
    "    \n",
    "    split_indices = np.where(pp_file['timestamp'].diff().dropna() > time_threshold)[0] + 1\n",
    "    pp_segments = np.split(pp_file, split_indices)\n",
    "    \n",
    "    print(str(len(pp_segments)) + ' segments found in PP file.')\n",
    "    \n",
    "    for idx, seg in enumerate(pp_segments):\n",
    "        print(f\"Segment {idx}...\")\n",
    "        seg.reset_index(inplace=True, drop=True)\n",
    "        print(f\"First timestamp: {seg.loc[0, 'timestamp']}\")\n",
    "        print(f\"Last timestamp: {seg.loc[seg.index[-1], 'timestamp']}\\n\")\n",
    "        print(f\"Difference: {seg.loc[seg.index[-1], 'timestamp'] - seg.loc[0, 'timestamp']}\\n\")\n",
    "\n",
    "    return pp_segments"
   ]
  },
  {
   "cell_type": "markdown",
   "metadata": {},
   "source": [
    "### Import and split PPG file"
   ]
  },
  {
   "cell_type": "code",
   "execution_count": 25,
   "metadata": {},
   "outputs": [],
   "source": [
    "def import_ppg(filename):\n",
    "    column_names = ['timestamp','user_id','record_id','value','alt_value_1','alt_value_2','alt_value_3']\n",
    "    dtypes = {'timestamp':object,'value':object}\n",
    "\n",
    "    ppg_file = pd.read_csv(filename, header=None, usecols=[0,1,2,3,4,5,6], dtype=dtypes, names=column_names)\n",
    "\n",
    "    ppg_file['value'] = pd.to_numeric(ppg_file['value'], errors='coerce')\n",
    "    ppg_file['timestamp'] = pd.to_numeric(ppg_file['timestamp'], errors='coerce')\n",
    "\n",
    "    ppg_file = ppg_file.dropna()\n",
    "    \n",
    "    ppg_file['value'] = ppg_file['value'].astype('int64')\n",
    "    \n",
    "    ppg_segments = {}\n",
    "    for record_id, group in ppg_file.groupby('record_id'):\n",
    "        ppg_segments[record_id] = group.reset_index(drop=True)\n",
    "        \n",
    "    print(str(len(ppg_segments)) + ' segments found in PPG file.')\n",
    "    \n",
    "    return ppg_segments"
   ]
  },
  {
   "cell_type": "markdown",
   "metadata": {},
   "source": [
    "### Import and split answers"
   ]
  },
  {
   "cell_type": "code",
   "execution_count": 26,
   "metadata": {},
   "outputs": [],
   "source": [
    "def import_answers(filename):\n",
    "    column_names = ['timestamp','user_id','record_id','watching','emotion_rating','fatigue_rating']\n",
    "\n",
    "    answers_file = pd.read_csv(filename, header=None, names=column_names)\n",
    "\n",
    "    answers_segments = {}\n",
    "    for record_id, group in answers_file.groupby('record_id'):\n",
    "        answers_segments[record_id] = group.reset_index(drop=True)\n",
    "            \n",
    "    print(str(len(answers_segments)) + ' segments found in answers file.')\n",
    "    \n",
    "    return answers_segments"
   ]
  },
  {
   "cell_type": "markdown",
   "metadata": {},
   "source": [
    "### Import and split heart beat sensor"
   ]
  },
  {
   "cell_type": "code",
   "execution_count": 27,
   "metadata": {},
   "outputs": [],
   "source": [
    "def import_heartbeat(filename):\n",
    "    column_names = ['timestamp','user_id','record_id','certainty']\n",
    "    \n",
    "    heartbeat_file = pd.read_csv(filename, header=None, names=column_names)\n",
    "    \n",
    "    heartbeat_segments = {}\n",
    "    for record_id, group in heartbeat_file.groupby('record_id'):\n",
    "        heartbeat_segments[record_id] = group.reset_index(drop=True)\n",
    "            \n",
    "    print(str(len(heartbeat_segments)) + ' segments found in heartbeat file.')\n",
    "    \n",
    "    return heartbeat_segments"
   ]
  },
  {
   "cell_type": "markdown",
   "metadata": {},
   "source": [
    "## Derive data from files"
   ]
  },
  {
   "cell_type": "code",
   "execution_count": 28,
   "metadata": {},
   "outputs": [],
   "source": [
    "def get_common_record_id(pp_segments, answers_segments):\n",
    "    common_record_id = set(pp_segments.keys())\n",
    "    common_record_id.intersection_update(answers_segments.keys())\n",
    "    \n",
    "    return common_record_id"
   ]
  },
  {
   "cell_type": "code",
   "execution_count": 29,
   "metadata": {},
   "outputs": [],
   "source": [
    "def normalize_pp_by_person(pp_segments):\n",
    "    \n",
    "    user_data = {}\n",
    "    normalized_pp_segments = copy.deepcopy(pp_segments)\n",
    "    \n",
    "    # Gather all pp-intervals by person\n",
    "    for record_id in pp_segments.keys():\n",
    "\n",
    "        user_id = pp_segments[record_id]['user_id'][0]\n",
    "\n",
    "        if user_id in user_data.keys():\n",
    "            user_data[user_id] = np.append(user_data[user_id], pp_segments[record_id]['value'].values)\n",
    "        else:\n",
    "            user_data[user_id] = pp_segments[record_id]['value'].values\n",
    "\n",
    "    # Get and print mean and stdev of all pp-intervals by person\n",
    "    user_data = {k: [v.mean(), v.std()] for k,v in user_data.items()}\n",
    "    \n",
    "    for user_id in user_data:\n",
    "        print(f\"user_id: {user_id}\\tmean/stdev: {user_data[user_id]}\")\n",
    "    \n",
    "    # Use mean and stdev to normalize pp_segments dict\n",
    "    for record_id in normalized_pp_segments.keys():\n",
    "        user_id = normalized_pp_segments[record_id]['user_id'][0]\n",
    "        \n",
    "        value_column = normalized_pp_segments[record_id]['value']\n",
    "        value_column = (value_column - user_data[user_id][0]) / (user_data[user_id][1])\n",
    "        \n",
    "        normalized_pp_segments[record_id]['value'] = value_column\n",
    "    return normalized_pp_segments"
   ]
  },
  {
   "cell_type": "code",
   "execution_count": 30,
   "metadata": {},
   "outputs": [],
   "source": [
    "def generate_derived_data(pp_segments, answers_segments, print_information_flag, normalized_data_flag):\n",
    "    \n",
    "    columns = [\n",
    "                'record_id',\n",
    "                'user_id',\n",
    "                'mean',\n",
    "                'sdnn',\n",
    "                'pnn50',\n",
    "                'cvrr',\n",
    "                'periodogram_lhrate',\n",
    "                'periodogram_lfnorm',\n",
    "                'periodogram_hfnorm',\n",
    "                'vector_angle_index',\n",
    "                'vector_length_index',\n",
    "                'fractal_dimension',\n",
    "                'emotion_rating',\n",
    "                'fatigue_rating'\n",
    "                ]\n",
    "\n",
    "    results = pd.DataFrame(columns=columns)\n",
    "    \n",
    "    common_record_id = get_common_record_id(pp_segments, answers_segments)            \n",
    "    print(str(len(common_record_id)) + ' segments with common record ids found.' + '\\n')\n",
    "    \n",
    "    for record_id in common_record_id: \n",
    "\n",
    "        if print_information_flag:\n",
    "            # Basic analysis of sampling frequency\n",
    "            samples_amount = len(pp_segments[record_id])\n",
    "            time_interval = pp_segments[record_id]['timestamp'].iloc[-1] - pp_segments[record_id]['timestamp'].iloc[0]\n",
    "            sampling_freq = 1_000_000_000 / pp_segments[record_id]['timestamp'].diff().dropna().mean()\n",
    "            alt_sampling_freq = samples_amount / time_interval * 1_000_000_000\n",
    "\n",
    "            print(f\"Amount of samples: {samples_amount}\")\n",
    "            print(f\"Timeinterval: {sampling_freq}\")\n",
    "            print(f\"Detected sampling frequency from mean period: {sampling_freq}\")\n",
    "            print(f\"Detected sampling frequency from total timeinterval and amount of samples: {alt_sampling_freq}\\n\")\n",
    "\n",
    "        # Mean (ms)\n",
    "        mean = pp_segments[record_id]['value'].mean()\n",
    "\n",
    "        # SDNN Index (ms*ms)\n",
    "        adjacent_differences = pp_segments[record_id]['value'].diff().dropna().abs()\n",
    "        sdnn = adjacent_differences.std()\n",
    "\n",
    "        # PNN50 (%)\n",
    "        threshold = 0.05 if normalized_data_flag else 50\n",
    "        pnn50 = len(adjacent_differences[adjacent_differences > threshold]) / len(adjacent_differences)\n",
    "\n",
    "        # CVrr / HRV Coefficient, ratio of stddev and mean\n",
    "        cvrr = pp_segments[record_id]['value'].std() / pp_segments[record_id]['value'].mean()\n",
    "\n",
    "        # Periodogram                \n",
    "        # Expected values are: \n",
    "            # LF: 20-150 ms^2\n",
    "            # HF: 50-250 ms^2\n",
    "            # LF/HF ratio: 0.5/2\n",
    "        # According to task force of european society of cardiology and the north american society of pacing and electrophysiology\n",
    "        # This function because of the integrated support for uneven sampling\n",
    "        # Another option was estimating the values\n",
    "        \n",
    "        freqs = np.linspace(0.04, 0.4, 100000)\n",
    "        psd = sc.signal.lombscargle(pp_segments[record_id]['timestamp']/1_000_000,pp_segments[record_id]['value'],freqs)\n",
    "        \n",
    "        total_power = np.trapz(psd, freqs)\n",
    "        hf_power = np.trapz(psd[(freqs >= 0.15) & (freqs <= 0.4)], freqs[(freqs >= 0.15) & (freqs <= 0.4)])\n",
    "        lf_power = np.trapz(psd[(freqs >= 0.04) & (freqs <= 0.15)], freqs[(freqs >= 0.04) & (freqs <= 0.15)])\n",
    "\n",
    "        hf_norm = (hf_power / total_power) * 100\n",
    "        lf_norm = (lf_power / total_power) * 100\n",
    "        lh_rate = lf_power / hf_power\n",
    "        \n",
    "        # Poincaré Scatterplot --> https://en.wikipedia.org/wiki/Poincar%C3%A9_plot\n",
    "        shortened_adjacent_differences = adjacent_differences[:-1].values\n",
    "        adjacent_differences_shift_left = adjacent_differences[1:].values\n",
    "\n",
    "        if print_information_flag:\n",
    "            plt.scatter(shortened_adjacent_differences, adjacent_differences_shift_left)\n",
    "            plt.xlabel('Current R-R interval')\n",
    "            plt.ylabel('Next R-R interval')\n",
    "            plt.show()\n",
    "        \n",
    "        # Vector Angle Index, reglects changes in the fast component\n",
    "        vector_angle_index = np.mean(\n",
    "            np.abs(\n",
    "                np.degrees(\n",
    "                    np.arctan(\n",
    "                        adjacent_differences_shift_left / shortened_adjacent_differences\n",
    "                    )\n",
    "                ) - 45\n",
    "            )\n",
    "        )       \n",
    "                   \n",
    "        # Vector Length Index, reflects the slow changing components of HRV (ms)\n",
    "        adjacent_differences_combined = np.column_stack((shortened_adjacent_differences, adjacent_differences_shift_left))        \n",
    "        vector_lengths = np.linalg.norm(adjacent_differences_combined, axis=1)\n",
    "\n",
    "        vector_length_index = np.sqrt(np.mean(((vector_lengths - np.mean(vector_lengths)) ** 2)))\n",
    "        \n",
    "        # Fractal Dimension\n",
    "        max_timestamp = pp_segments[record_id]['timestamp'].iloc[-1]\n",
    "        min_value = np.min(pp_segments[record_id]['value'])\n",
    "        max_value = np.max(pp_segments[record_id]['value'])\n",
    "        \n",
    "        normalized_timestamp = pp_segments[record_id]['timestamp'] / max_value\n",
    "        normalized_value = (pp_segments[record_id]['value'] - min_value) / (max_value - min_value)\n",
    "        \n",
    "        timestamp_value_combined = np.column_stack((normalized_timestamp, normalized_value))\n",
    "                \n",
    "        unit_square = np.array([[0, 0], [1, 0], [1, 1], [0, 1]])\n",
    "        timestamp_value_combined_mapped = np.matmul(timestamp_value_combined, unit_square.T)\n",
    "        \n",
    "        curve_length = np.sum(np.sqrt(np.sum(np.diff(timestamp_value_combined_mapped, axis=0)**2, axis=1)))\n",
    "        fractal_dimension = 1 + np.log(curve_length) / np.log(2 * (len(pp_segments[record_id]['value'])-1))\n",
    "                \n",
    "        # Answers\n",
    "        emotion_rating = answers_segments[record_id].iloc[0]['emotion_rating'].astype(int)\n",
    "        fatigue_rating = answers_segments[record_id].iloc[0]['fatigue_rating'].astype(int)\n",
    "        \n",
    "        new_row = [record_id,answers_segments[record_id]['user_id'][0],mean,sdnn,pnn50,cvrr,lh_rate,lf_norm,hf_norm,vector_angle_index,vector_length_index,fractal_dimension,emotion_rating,fatigue_rating]\n",
    "        results.loc[len(results)] = new_row\n",
    "\n",
    "    return results"
   ]
  },
  {
   "cell_type": "markdown",
   "metadata": {},
   "source": [
    "## Data analysis"
   ]
  },
  {
   "cell_type": "code",
   "execution_count": 31,
   "metadata": {},
   "outputs": [],
   "source": [
    "def display_ppg_data(ppg_segments, heartbeat_segments):\n",
    "    \n",
    "    ppg_segments = {k: v for k, v in ppg_segments.items() if k in [1]}\n",
    "        \n",
    "    for seg in ppg_segments.values():\n",
    "    \n",
    "        seg['timestamp'] = (seg['timestamp'] - seg['timestamp'].iloc[0]) / 1_000_000_000\n",
    "\n",
    "        plt.plot(seg['timestamp'],seg['value'])\n",
    "        plt.xlabel('Time')\n",
    "        plt.ylabel('PPG Data')\n",
    "        plt.show()"
   ]
  },
  {
   "cell_type": "code",
   "execution_count": 32,
   "metadata": {
    "scrolled": true
   },
   "outputs": [
    {
     "name": "stdout",
     "output_type": "stream",
     "text": [
      "15 segments found in PP file.\n",
      "15 segments found in PPG file.\n",
      "15 segments found in answers file.\n",
      "36 segments found in PP file.\n",
      "37 segments found in PPG file.\n",
      "32 segments found in answers file.\n",
      "15 segments found in PP file.\n",
      "15 segments found in PPG file.\n",
      "15 segments found in answers file.\n",
      "user_id: 1\tmean/stdev: [889.7741935483871, 205.83131359588535]\n",
      "user_id: 2\tmean/stdev: [844.5428147520136, 211.07717481664304]\n",
      "user_id: 3\tmean/stdev: [1174.1342835708926, 262.22198289714237]\n"
     ]
    }
   ],
   "source": [
    "pp_segments = import_pp_v1('../Data/Induced Dump/Combined Results/ppSensor.csv')\n",
    "ppg_segments = import_ppg('../Data/Induced Dump/Combined Results/ppgSensor.csv')\n",
    "answers_segments = import_answers('../Data/Induced Dump/Combined Results/evalAnswers.csv')\n",
    "\n",
    "pp_segments.update(import_pp_v1('../Data/Dump 2/ppSensor.csv'))\n",
    "ppg_segments.update(import_ppg('../Data/Dump 2/ppgSensor.csv'))\n",
    "answers_segments.update(import_answers('../Data/Dump 2/evalAnswers.csv'))\n",
    "\n",
    "pp_segments.update(import_pp_v1('../Data/Dump 3/ppSensor.csv'))\n",
    "ppg_segments.update(import_ppg('../Data/Dump 3/ppgSensor.csv'))\n",
    "answers_segments.update(import_answers('../Data/Dump 3/evalAnswers.csv'))\n",
    "\n",
    "pp_segments = normalize_pp_by_person(pp_segments)"
   ]
  },
  {
   "cell_type": "code",
   "execution_count": null,
   "metadata": {
    "scrolled": true
   },
   "outputs": [
    {
     "name": "stdout",
     "output_type": "stream",
     "text": [
      "62 segments with common record ids found.\n",
      "\n"
     ]
    },
    {
     "name": "stderr",
     "output_type": "stream",
     "text": [
      "C:\\Users\\vande\\AppData\\Local\\Temp\\ipykernel_19472\\2242985440.py:88: RuntimeWarning: divide by zero encountered in divide\n",
      "  adjacent_differences_shift_left / shortened_adjacent_differences\n",
      "C:\\Users\\vande\\AppData\\Local\\Temp\\ipykernel_19472\\2242985440.py:88: RuntimeWarning: divide by zero encountered in divide\n",
      "  adjacent_differences_shift_left / shortened_adjacent_differences\n",
      "C:\\Users\\vande\\AppData\\Local\\Temp\\ipykernel_19472\\2242985440.py:88: RuntimeWarning: divide by zero encountered in divide\n",
      "  adjacent_differences_shift_left / shortened_adjacent_differences\n",
      "C:\\Users\\vande\\AppData\\Local\\Temp\\ipykernel_19472\\2242985440.py:88: RuntimeWarning: divide by zero encountered in divide\n",
      "  adjacent_differences_shift_left / shortened_adjacent_differences\n",
      "C:\\Users\\vande\\AppData\\Local\\Temp\\ipykernel_19472\\2242985440.py:88: RuntimeWarning: divide by zero encountered in divide\n",
      "  adjacent_differences_shift_left / shortened_adjacent_differences\n",
      "C:\\Users\\vande\\AppData\\Local\\Temp\\ipykernel_19472\\2242985440.py:88: RuntimeWarning: divide by zero encountered in divide\n",
      "  adjacent_differences_shift_left / shortened_adjacent_differences\n",
      "C:\\Users\\vande\\AppData\\Local\\Temp\\ipykernel_19472\\2242985440.py:88: RuntimeWarning: divide by zero encountered in divide\n",
      "  adjacent_differences_shift_left / shortened_adjacent_differences\n",
      "C:\\Users\\vande\\AppData\\Local\\Temp\\ipykernel_19472\\2242985440.py:88: RuntimeWarning: divide by zero encountered in divide\n",
      "  adjacent_differences_shift_left / shortened_adjacent_differences\n",
      "C:\\Users\\vande\\AppData\\Local\\Temp\\ipykernel_19472\\2242985440.py:88: RuntimeWarning: divide by zero encountered in divide\n",
      "  adjacent_differences_shift_left / shortened_adjacent_differences\n",
      "C:\\Users\\vande\\AppData\\Local\\Temp\\ipykernel_19472\\2242985440.py:88: RuntimeWarning: divide by zero encountered in divide\n",
      "  adjacent_differences_shift_left / shortened_adjacent_differences\n",
      "C:\\Users\\vande\\AppData\\Local\\Temp\\ipykernel_19472\\2242985440.py:88: RuntimeWarning: divide by zero encountered in divide\n",
      "  adjacent_differences_shift_left / shortened_adjacent_differences\n",
      "C:\\Users\\vande\\AppData\\Local\\Temp\\ipykernel_19472\\2242985440.py:88: RuntimeWarning: divide by zero encountered in divide\n",
      "  adjacent_differences_shift_left / shortened_adjacent_differences\n",
      "C:\\Users\\vande\\AppData\\Local\\Temp\\ipykernel_19472\\2242985440.py:88: RuntimeWarning: divide by zero encountered in divide\n",
      "  adjacent_differences_shift_left / shortened_adjacent_differences\n",
      "C:\\Users\\vande\\AppData\\Local\\Temp\\ipykernel_19472\\2242985440.py:88: RuntimeWarning: divide by zero encountered in divide\n",
      "  adjacent_differences_shift_left / shortened_adjacent_differences\n",
      "C:\\Users\\vande\\AppData\\Local\\Temp\\ipykernel_19472\\2242985440.py:88: RuntimeWarning: divide by zero encountered in divide\n",
      "  adjacent_differences_shift_left / shortened_adjacent_differences\n",
      "C:\\Users\\vande\\AppData\\Local\\Temp\\ipykernel_19472\\2242985440.py:88: RuntimeWarning: divide by zero encountered in divide\n",
      "  adjacent_differences_shift_left / shortened_adjacent_differences\n",
      "C:\\Users\\vande\\AppData\\Local\\Temp\\ipykernel_19472\\2242985440.py:88: RuntimeWarning: divide by zero encountered in divide\n",
      "  adjacent_differences_shift_left / shortened_adjacent_differences\n",
      "C:\\Users\\vande\\AppData\\Local\\Temp\\ipykernel_19472\\2242985440.py:88: RuntimeWarning: divide by zero encountered in divide\n",
      "  adjacent_differences_shift_left / shortened_adjacent_differences\n",
      "C:\\Users\\vande\\AppData\\Local\\Temp\\ipykernel_19472\\2242985440.py:88: RuntimeWarning: divide by zero encountered in divide\n",
      "  adjacent_differences_shift_left / shortened_adjacent_differences\n",
      "C:\\Users\\vande\\AppData\\Local\\Temp\\ipykernel_19472\\2242985440.py:88: RuntimeWarning: divide by zero encountered in divide\n",
      "  adjacent_differences_shift_left / shortened_adjacent_differences\n",
      "C:\\Users\\vande\\AppData\\Local\\Temp\\ipykernel_19472\\2242985440.py:88: RuntimeWarning: divide by zero encountered in divide\n",
      "  adjacent_differences_shift_left / shortened_adjacent_differences\n"
     ]
    }
   ],
   "source": [
    "results = generate_derived_data(pp_segments, answers_segments, False, True)\n",
    "\n",
    "sns.heatmap(results.corr(), annot=True)\n",
    "sns.pairplot(results)\n",
    "plt.show()\n",
    "\n",
    "results.head()\n",
    "# corr matrix can only show non linear relationships"
   ]
  },
  {
   "cell_type": "code",
   "execution_count": null,
   "metadata": {
    "scrolled": true
   },
   "outputs": [],
   "source": [
    "counts = np.bincount(results['rating'])\n",
    "\n",
    "for i in range(len(counts)):\n",
    "    print(\"Value\", i, \"occurs\", counts[i], \"times\")"
   ]
  },
  {
   "cell_type": "markdown",
   "metadata": {},
   "source": [
    "## Models Emotion Detection"
   ]
  },
  {
   "cell_type": "markdown",
   "metadata": {},
   "source": [
    "### Regression"
   ]
  },
  {
   "cell_type": "markdown",
   "metadata": {},
   "source": [
    "#### Extractor"
   ]
  },
  {
   "cell_type": "code",
   "execution_count": 14,
   "metadata": {
    "scrolled": true
   },
   "outputs": [],
   "source": [
    "pd.set_option('display.max_rows', None)\n",
    "pd.set_option('display.max_columns', None)\n",
    "#print(results['rating'])\n",
    "\n",
    "reg_input_data = results.drop(['record_id','user_id','rating'], axis=1)\n",
    "reg_target = results['rating']\n",
    "\n",
    "extraction_index = 17\n",
    "extracted_row = reg_input_data.iloc[extraction_index].values\n",
    "\n",
    "#reg_input_data = reg_input_data.drop(extraction_index, axis=0).values\n",
    "#reg_target = reg_target.drop(extraction_index, axis=0)['rating']"
   ]
  },
  {
   "cell_type": "markdown",
   "metadata": {},
   "source": [
    "#### Sampler"
   ]
  },
  {
   "cell_type": "code",
   "execution_count": 15,
   "metadata": {},
   "outputs": [
    {
     "name": "stdout",
     "output_type": "stream",
     "text": [
      "Value 0 occurs 37 times\n",
      "Value 1 occurs 0 times\n",
      "Value 2 occurs 37 times\n",
      "Value 3 occurs 37 times\n",
      "Value 4 occurs 37 times\n"
     ]
    }
   ],
   "source": [
    "sampler = RandomOverSampler()\n",
    "reg_input_data, reg_target = sampler.fit_resample(reg_input_data, reg_target)\n",
    "\n",
    "counts = np.bincount(reg_target)\n",
    "for i in range(len(counts)):\n",
    "    print(\"Value\", i, \"occurs\", counts[i], \"times\")"
   ]
  },
  {
   "cell_type": "markdown",
   "metadata": {},
   "source": [
    "#### Model"
   ]
  },
  {
   "cell_type": "code",
   "execution_count": 16,
   "metadata": {},
   "outputs": [
    {
     "name": "stdout",
     "output_type": "stream",
     "text": [
      "Fitting 5 folds for each of 300 candidates, totalling 1500 fits\n",
      "Best score: 1.3153154377522083\n",
      "Best params: {'lasso__alpha': 38.75782454544849, 'polynomialfeatures__degree': 3}\n"
     ]
    },
    {
     "name": "stderr",
     "output_type": "stream",
     "text": [
      "C:\\Users\\vande\\AppData\\Local\\Programs\\Python\\Python311\\Lib\\site-packages\\sklearn\\linear_model\\_coordinate_descent.py:631: ConvergenceWarning: Objective did not converge. You might want to increase the number of iterations, check the scale of the features or consider increasing regularisation. Duality gap: 4.061e+01, tolerance: 3.238e-02\n",
      "  model = cd_fast.enet_coordinate_descent(\n"
     ]
    }
   ],
   "source": [
    "param_dist = {\n",
    "    'polynomialfeatures__degree': randint(1, 10),\n",
    "    'lasso__alpha': uniform(0.01, 300),\n",
    "}\n",
    "\n",
    "pipeline = make_pipeline(\n",
    "    PolynomialFeatures(),\n",
    "    Lasso(),\n",
    ")\n",
    "\n",
    "rand_search = RandomizedSearchCV(\n",
    "    pipeline,\n",
    "    param_distributions=param_dist,\n",
    "    cv=KFold(shuffle=True),\n",
    "    n_jobs=-1,\n",
    "    n_iter=300,\n",
    "    scoring='neg_root_mean_squared_error',\n",
    "    random_state=42,\n",
    "    verbose=1,\n",
    ")\n",
    "\n",
    "rand_search.fit(reg_input_data, reg_target)\n",
    "\n",
    "print('Best score:', -rand_search.best_score_)\n",
    "print('Best params:', rand_search.best_params_)"
   ]
  },
  {
   "cell_type": "code",
   "execution_count": 21,
   "metadata": {
    "scrolled": false
   },
   "outputs": [
    {
     "data": {
      "image/png": "[encoded data removed]",
      "text/plain": [
       "<Figure size 640x480 with 1 Axes>"
      ]
     },
     "metadata": {},
     "output_type": "display_data"
    },
    {
     "data": {
      "image/png": "[encoded data removed]",
      "text/plain": [
       "<Figure size 640x480 with 1 Axes>"
      ]
     },
     "metadata": {},
     "output_type": "display_data"
    }
   ],
   "source": [
    "train_sizes, train_scores, test_scores = learning_curve(\n",
    "    make_pipeline(PolynomialFeatures(degree=3), Lasso(alpha=78.2780870025142, max_iter=20000)),\n",
    "    reg_input_data, reg_target, \n",
    "    cv=KFold(shuffle=True),\n",
    "    scoring='neg_root_mean_squared_error'\n",
    ")\n",
    "\n",
    "train_scores_mean = -np.mean(train_scores, axis=1)\n",
    "test_scores_mean = -np.mean(test_scores, axis=1)\n",
    "\n",
    "train_scores_std = np.std(train_scores, axis=1)\n",
    "test_scores_std = np.std(test_scores, axis=1)\n",
    "\n",
    "plt.figure()\n",
    "plt.title(\"Learning Curve Mean\")\n",
    "plt.xlabel(\"Training examples\")\n",
    "plt.ylabel(\"RMSE\")\n",
    "plt.yticks(np.arange(0, 4, 0.5))\n",
    "plt.ylim(0, 5)\n",
    "plt.grid()\n",
    "\n",
    "plt.plot(train_sizes, train_scores_mean, 'o-', color=\"r\",\n",
    "         label=\"Training RMSE\")\n",
    "plt.plot(train_sizes, test_scores_mean, 'o-', color=\"g\",\n",
    "         label=\"Testing RMSE\")\n",
    "\n",
    "plt.legend(loc=\"best\")\n",
    "plt.show()\n",
    "\n",
    "plt.figure()\n",
    "plt.title(\"Learning Curve Std\")\n",
    "plt.xlabel(\"Training examples\")\n",
    "plt.ylabel(\"STD\")\n",
    "plt.yticks(np.arange(0, 4, 0.5))\n",
    "plt.ylim(0, 5)\n",
    "plt.grid()\n",
    "\n",
    "plt.plot(train_sizes, train_scores_std, 'o-', color=\"r\",\n",
    "         label=\"Training STD\")\n",
    "plt.plot(train_sizes, test_scores_std, 'o-', color=\"g\",\n",
    "         label=\"Testing STD\")\n",
    "\n",
    "plt.legend(loc=\"best\")\n",
    "plt.show()\n",
    "\n",
    "# 1 means that predicted values are on average 1 point off of the actual values"
   ]
  },
  {
   "cell_type": "markdown",
   "metadata": {},
   "source": [
    "#### Test of extraction"
   ]
  },
  {
   "cell_type": "code",
   "execution_count": 18,
   "metadata": {},
   "outputs": [
    {
     "ename": "NameError",
     "evalue": "name 'reg_input_data_poly' is not defined",
     "output_type": "error",
     "traceback": [
      "\u001b[1;31m---------------------------------------------------------------------------\u001b[0m",
      "\u001b[1;31mNameError\u001b[0m                                 Traceback (most recent call last)",
      "Cell \u001b[1;32mIn[18], line 2\u001b[0m\n\u001b[0;32m      1\u001b[0m model \u001b[38;5;241m=\u001b[39m LinearRegression()\n\u001b[1;32m----> 2\u001b[0m model\u001b[38;5;241m.\u001b[39mfit(\u001b[43mreg_input_data_poly\u001b[49m, reg_target)\n\u001b[0;32m      4\u001b[0m extracted_row_poly \u001b[38;5;241m=\u001b[39m PolynomialFeatures(degree\u001b[38;5;241m=\u001b[39m\u001b[38;5;241m1\u001b[39m)\u001b[38;5;241m.\u001b[39mfit_transform(extracted_row\u001b[38;5;241m.\u001b[39mreshape(\u001b[38;5;241m1\u001b[39m, \u001b[38;5;241m-\u001b[39m\u001b[38;5;241m1\u001b[39m))\n\u001b[0;32m      5\u001b[0m predictions \u001b[38;5;241m=\u001b[39m model\u001b[38;5;241m.\u001b[39mpredict(extracted_row_poly)\n",
      "\u001b[1;31mNameError\u001b[0m: name 'reg_input_data_poly' is not defined"
     ]
    }
   ],
   "source": [
    "model = LinearRegression()\n",
    "model.fit(reg_input_data_poly, reg_target)\n",
    "\n",
    "extracted_row_poly = PolynomialFeatures(degree=1).fit_transform(extracted_row.reshape(1, -1))\n",
    "predictions = model.predict(extracted_row_poly)\n",
    "\n",
    "print(predictions)"
   ]
  },
  {
   "cell_type": "markdown",
   "metadata": {},
   "source": [
    "### 2 binary classifiers"
   ]
  },
  {
   "cell_type": "code",
   "execution_count": null,
   "metadata": {},
   "outputs": [],
   "source": [
    "# Pos vibes finder\n",
    "\n",
    "pos_class_input_data = results.drop(['record_id','user_id','rating'], axis=1).values\n",
    "pos_class_classes = np.where(results['rating'] > 2, 1, 0)\n",
    "\n",
    "pos_class_input_data, pos_class_classes = sampler.fit_resample(pos_class_input_data, pos_class_classes)\n",
    "\n",
    "counts = np.bincount(pos_class_classes)\n",
    "for i in range(len(counts)):\n",
    "    print(\"Value\", i, \"occurs\", counts[i], \"times\")\n",
    "\n",
    "# Default value for max_iter is 100\n",
    "pos_lr = LogisticRegression(max_iter=200)\n",
    "\n",
    "accuracy = cross_val_score(pos_lr, pos_class_input_data, pos_class_classes, cv=KFold(n_splits=5, shuffle=True))\n",
    "precision = cross_val_score(pos_lr, pos_class_input_data, pos_class_classes, cv=KFold(n_splits=5, shuffle=True), scoring='precision')\n",
    "\n",
    "# The closer to 0, the better\n",
    "neg_log_loss = -cross_val_score(pos_lr, pos_class_input_data, pos_class_classes, cv=KFold(n_splits=5, shuffle=True), scoring='neg_log_loss')\n",
    "\n",
    "print(f\"\\nAccuracy: {accuracy.mean():.3f} (+/- {accuracy.std() * 2:.3f})\")\n",
    "print(f\"Precision: {precision.mean():.3f} (+/- {precision.std() * 2:.3f})\")\n",
    "print(f\"Neg log loss: {neg_log_loss.mean():.3f} (+/- {neg_log_loss.std() * 2:.3f})\")\n",
    "print(f\"Average confidence level: {1 / np.exp(neg_log_loss.mean()):.3f}\")"
   ]
  },
  {
   "cell_type": "code",
   "execution_count": null,
   "metadata": {
    "scrolled": false
   },
   "outputs": [],
   "source": [
    "# Neg vibes finder\n",
    "\n",
    "neg_class_input_data = results.drop(['record_id','user_id','rating'], axis=1).values\n",
    "neg_class_classes = np.where(results['rating'] < 2, 1, 0)\n",
    "\n",
    "neg_class_input_data, neg_class_classes = sampler.fit_resample(neg_class_input_data, neg_class_classes)\n",
    "\n",
    "counts = np.bincount(neg_class_classes)\n",
    "for i in range(len(counts)):\n",
    "    print(\"Value\", i, \"occurs\", counts[i], \"times\")\n",
    "\n",
    "# Default value for max_iter is 100\n",
    "neg_lr = LogisticRegression(max_iter=200)\n",
    "\n",
    "accuracy = cross_val_score(neg_lr, neg_class_input_data, neg_class_classes, cv=KFold(n_splits=5, shuffle=True))\n",
    "precision = cross_val_score(neg_lr, neg_class_input_data, neg_class_classes, cv=KFold(n_splits=5, shuffle=True), scoring='precision')\n",
    "\n",
    "# The closer to 0, the better\n",
    "neg_log_loss = -cross_val_score(neg_lr, neg_class_input_data, neg_class_classes, cv=5, scoring='neg_log_loss')\n",
    "\n",
    "# Only high because only 3 samples and duplicated in oversampling, overfit encouraged\n",
    "print(f\"\\nAccuracy: {accuracy.mean():.3f} (+/- {accuracy.std() * 2:.3f})\")\n",
    "print(f\"Precision: {precision.mean():.3f} (+/- {precision.std() * 2:.3f})\")\n",
    "print(f\"Neg log loss: {neg_log_loss.mean():.3f} (+/- {neg_log_loss.std() * 2:.3f})\")\n",
    "print(f\"Average confidence level: {1 / np.exp(neg_log_loss.mean()):.3f}\")\n",
    "\n",
    "# Results indicate that predictions are generally correct but the model isn't very confident of them"
   ]
  },
  {
   "cell_type": "markdown",
   "metadata": {},
   "source": [
    "### Softmax Regression"
   ]
  },
  {
   "cell_type": "code",
   "execution_count": null,
   "metadata": {},
   "outputs": [],
   "source": [
    "softmax_class_input_data = results.drop(['record_id','user_id','rating'], axis=1).values\n",
    "softmax_class_classes = np.where(results['rating'] < 2, 0, results['rating'])\n",
    "softmax_class_classes = np.where(softmax_class_classes > 2, 1, softmax_class_classes).astype('int64', casting='unsafe')\n",
    "\n",
    "print(\"Class 0 is negative\\nClass 1 is positive\\nClass 2 is neutral\\n\")\n",
    "\n",
    "softmax_class_input_data, softmax_class_classes = sampler.fit_resample(softmax_class_input_data, softmax_class_classes)\n",
    "\n",
    "counts = np.bincount(softmax_class_classes)\n",
    "for i in range(len(counts)):\n",
    "    print(\"Value\", i, \"occurs\", counts[i], \"times\")\n",
    "    \n",
    "# Default value for max_iter is 100\n",
    "softmax_lr = LogisticRegression(multi_class='multinomial', solver='lbfgs', max_iter=10000000000000000)\n",
    "\n",
    "accuracy = cross_val_score(softmax_lr, softmax_class_input_data, softmax_class_classes, cv=3)\n",
    "\n",
    "# Average precision across classes\n",
    "precision = cross_val_score(softmax_lr, softmax_class_input_data, softmax_class_classes, cv=3, scoring='precision_macro')\n",
    "neg_log_loss = -cross_val_score(neg_lr, softmax_class_input_data, softmax_class_classes, cv=3, scoring='neg_log_loss')\n",
    "\n",
    "print(f\"\\nAccuracy: {accuracy.mean():.3f} (+/- {accuracy.std() * 2:.3f})\")\n",
    "print(f\"Precision: {precision.mean():.3f} (+/- {precision.std() * 2:.3f})\")\n",
    "print(f\"Neg log loss: {neg_log_loss.mean():.3f} (+/- {neg_log_loss.std() * 2:.3f})\")\n",
    "print(f\"Average confidence level: {1 / np.exp(neg_log_loss.mean()):.3f}\")"
   ]
  },
  {
   "cell_type": "markdown",
   "metadata": {},
   "source": [
    "### Deep Learning"
   ]
  },
  {
   "cell_type": "code",
   "execution_count": null,
   "metadata": {},
   "outputs": [],
   "source": [
    "def create_model():\n",
    "    model = Sequential()\n",
    "    model.add(Conv1D(filters=64, kernel_size=3, activation='relu', input_shape=(time_steps, features)))\n",
    "    model.add(MaxPooling1D(pool_size=2))\n",
    "    model.add(Conv1D(filters=128, kernel_size=3, activation='relu'))\n",
    "    model.add(MaxPooling1D(pool_size=2))\n",
    "    model.add(Flatten())\n",
    "    model.add(Dense(128, activation='relu'))\n",
    "    model.add(Dense(num_classes, activation='softmax'))\n",
    "    model.compile(optimizer='adam', loss='categorical_crossentropy', metrics=['accuracy'])\n",
    "    return model\n",
    "\n",
    "# Load data and split into train, validation, and test sets\n",
    "y = np.where(results['rating'] < 2, 0, results['rating'])\n",
    "y = np.where(y > 2, 1, y)\n",
    "\n",
    "common_record_id = get_common_record_id(pp_segments, ppg_segments, answers_segments)\n",
    "max_length = min([len(ppg_segments[record_id]) for record_id in common_record_id])\n",
    "\n",
    "X = []\n",
    "for record_id in common_record_id:\n",
    "    seg = ppg_segments[record_id]\n",
    "    if len(seg) > max_length:\n",
    "        seg = seg[:max_length]\n",
    "    X.append(seg[['timestamp','value','alt_value_1','alt_value_2','alt_value_3']])\n",
    "X = np.array(X)\n",
    "\n",
    "# Convert target labels to categorical format, to one hot encoding\n",
    "y = to_categorical(y)\n",
    "\n",
    "# Define the parameters\n",
    "time_steps = X.shape[1]\n",
    "features = X.shape[2]\n",
    "num_classes = y.shape[1]\n",
    "\n",
    "# Create a KerasClassifier object\n",
    "estimator = KerasClassifier(model=create_model, epochs=10, batch_size=32, verbose=0)\n",
    "\n",
    "# Evaluate the model using cross-validation\n",
    "accuracy = cross_val_score(estimator, X, y, cv=5)\n",
    "precision = cross_val_score(estimator, X, y, cv=5, scoring='precision_macro')\n",
    "neg_log_loss = -cross_val_score(estimator, X, y, cv=5, scoring='neg_log_loss')\n",
    "\n",
    "print(f\"\\nAccuracy: {accuracy.mean():.3f} (+/- {accuracy.std() * 2:.3f})\")\n",
    "print(f\"Precision: {precision.mean():.3f} (+/- {precision.std() * 2:.3f})\")\n",
    "print(f\"Neg log loss: {neg_log_loss.mean():.3f} (+/- {neg_log_loss.std() * 2:.3f})\")\n",
    "print(f\"Average confidence level: {1 / np.exp(neg_log_loss.mean()):.3f}\")"
   ]
  },
  {
   "cell_type": "code",
   "execution_count": null,
   "metadata": {},
   "outputs": [],
   "source": []
  }
 ],
 "metadata": {
  "kernelspec": {
   "display_name": "Python 3 (ipykernel)",
   "language": "python",
   "name": "python3"
  },
  "language_info": {
   "codemirror_mode": {
    "name": "ipython",
    "version": 3
   },
   "file_extension": ".py",
   "mimetype": "text/x-python",
   "name": "python",
   "nbconvert_exporter": "python",
   "pygments_lexer": "ipython3",
   "version": "3.11.1"
  }
 },
 "nbformat": 4,
 "nbformat_minor": 2
}
